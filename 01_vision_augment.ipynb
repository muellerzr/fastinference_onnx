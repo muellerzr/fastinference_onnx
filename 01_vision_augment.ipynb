{
 "cells": [
  {
   "cell_type": "code",
   "execution_count": null,
   "metadata": {},
   "outputs": [],
   "source": [
    "from fastai2.vision.all import *"
   ]
  },
  {
   "cell_type": "code",
   "execution_count": null,
   "metadata": {},
   "outputs": [],
   "source": [
    "path = untar_data(URLs.PETS)\n",
    "fnames = get_image_files(path/'images')\n",
    "pat = r'(.+)_\\d+.jpg$'\n",
    "batch_tfms = [ Normalize.from_stats(*imagenet_stats)]\n",
    "item_tfms = Resize(224)\n",
    "bs=64"
   ]
  },
  {
   "cell_type": "code",
   "execution_count": null,
   "metadata": {},
   "outputs": [],
   "source": [
    "dls = ImageDataLoaders.from_name_re(path, fnames, pat, batch_tfms=batch_tfms, \n",
    "                                   item_tfms=item_tfms, bs=bs)"
   ]
  },
  {
   "cell_type": "code",
   "execution_count": null,
   "metadata": {},
   "outputs": [
    {
     "data": {
      "text/plain": [
       "Pipeline: Resize -> ToTensor"
      ]
     },
     "execution_count": null,
     "metadata": {},
     "output_type": "execute_result"
    }
   ],
   "source": [
    "dls.after_item"
   ]
  },
  {
   "cell_type": "code",
   "execution_count": null,
   "metadata": {},
   "outputs": [],
   "source": [
    "from PIL import Image"
   ]
  },
  {
   "cell_type": "code",
   "execution_count": null,
   "metadata": {},
   "outputs": [],
   "source": [
    "def FlipItem(x): return x.transpose(Image.FLIP_LEFT_RIGHT)"
   ]
  },
  {
   "cell_type": "code",
   "execution_count": null,
   "metadata": {},
   "outputs": [],
   "source": [
    "def Dihedral(x, k): return x.dihedral(k)"
   ]
  },
  {
   "cell_type": "code",
   "execution_count": null,
   "metadata": {},
   "outputs": [],
   "source": [
    "_pad_modes = {'zeros': 'constant', 'border': 'edge', 'reflection': 'reflect'}\n",
    "def _do_crop_pad(x, sz, tl, orig_sz, resize_to = None):\n",
    "    if any(tl.ge(0)):\n",
    "        # At least one dim is inside the image, so needs to be cropped\n",
    "        c = tl.max(0)\n",
    "        x = x.crop((*c, *c.add(sz).min(orig_sz)))\n",
    "    if any(tl.lt(0)):\n",
    "        # At least one dim is outside the image, so needs to be padded\n",
    "        p = (-tl).max(0)\n",
    "        f = (sz-orig_sz-p).max(0)\n",
    "        x = np.pad(x, (*p, *f), padding_mode=_pad_modes[pad_mode])\n",
    "    if resize_to is not None: x = x.resize(resize_to, resize_mode)\n",
    "    return x"
   ]
  },
  {
   "cell_type": "code",
   "execution_count": null,
   "metadata": {},
   "outputs": [],
   "source": [
    "op = (operator.lt,operator.gt)[0]"
   ]
  },
  {
   "cell_type": "code",
   "execution_count": null,
   "metadata": {},
   "outputs": [],
   "source": [
    "x = np.pad(x, (*p,*f))"
   ]
  },
  {
   "cell_type": "code",
   "execution_count": null,
   "metadata": {},
   "outputs": [],
   "source": [
    "np.pad?"
   ]
  },
  {
   "cell_type": "code",
   "execution_count": null,
   "metadata": {},
   "outputs": [],
   "source": [
    "import numpy as np"
   ]
  },
  {
   "cell_type": "code",
   "execution_count": null,
   "metadata": {},
   "outputs": [],
   "source": [
    "cp_sz = (int(m*224),int(m*224))"
   ]
  },
  {
   "cell_type": "code",
   "execution_count": null,
   "metadata": {},
   "outputs": [],
   "source": [
    "tl = Tuple(int(0.5*(w-cp_sz[0])), int(0.5*(h-cp_sz[1])))"
   ]
  },
  {
   "cell_type": "code",
   "execution_count": null,
   "metadata": {},
   "outputs": [
    {
     "data": {
      "text/plain": [
       "(78, 0)"
      ]
     },
     "execution_count": null,
     "metadata": {},
     "output_type": "execute_result"
    }
   ],
   "source": [
    "def crop_pad(x:(TensorBBox,TensorPoint,Image.Image),\n",
    "             sz, tl=None, orig_sz=None, pad_mode=PadMode.Zeros, resize_mode=Image.BILINEAR, resize_to=None):\n",
    "    if isinstance(sz,int): sz = (sz,sz)\n",
    "    orig_sz = Tuple(x.size if orig_sz is None else orig_sz)\n",
    "    sz,tl = Tuple(sz),Tuple(((x.size-sz)//2) if tl is None else tl)\n",
    "    return x._do_crop_pad(sz, tl, orig_sz=orig_sz, pad_mode=pad_mode, resize_mode=resize_mode, resize_to=resize_to)"
   ]
  },
  {
   "cell_type": "code",
   "execution_count": null,
   "metadata": {},
   "outputs": [],
   "source": [
    "im.crop_pad??"
   ]
  },
  {
   "cell_type": "code",
   "execution_count": null,
   "metadata": {},
   "outputs": [],
   "source": [
    "im._do_crop_pad??"
   ]
  },
  {
   "cell_type": "code",
   "execution_count": null,
   "metadata": {},
   "outputs": [],
   "source": []
  }
 ],
 "metadata": {
  "kernelspec": {
   "display_name": "Python 3",
   "language": "python",
   "name": "python3"
  }
 },
 "nbformat": 4,
 "nbformat_minor": 4
}
